{
  "nbformat": 4,
  "nbformat_minor": 0,
  "metadata": {
    "colab": {
      "name": "mnist98%accuracy.ipynb",
      "version": "0.3.2",
      "provenance": [],
      "collapsed_sections": [],
      "include_colab_link": true
    },
    "kernelspec": {
      "name": "python3",
      "display_name": "Python 3"
    },
    "accelerator": "GPU"
  },
  "cells": [
    {
      "cell_type": "markdown",
      "metadata": {
        "id": "view-in-github",
        "colab_type": "text"
      },
      "source": [
        "<a href=\"https://colab.research.google.com/github/chiazor/handwriting_recognition_with_keras_and_mnist/blob/master/mnist98_accuracy.ipynb\" target=\"_parent\"><img src=\"https://colab.research.google.com/assets/colab-badge.svg\" alt=\"Open In Colab\"/></a>"
      ]
    },
    {
      "cell_type": "code",
      "metadata": {
        "id": "jn53rjZjCgh3",
        "colab_type": "code",
        "colab": {}
      },
      "source": [
        "from keras.datasets import mnist\n",
        "(train_images, train_labels), (test_images, test_labels) = mnist.load_data()"
      ],
      "execution_count": 0,
      "outputs": []
    },
    {
      "cell_type": "code",
      "metadata": {
        "id": "I1DMaAoQEq2X",
        "colab_type": "code",
        "colab": {}
      },
      "source": [
        ""
      ],
      "execution_count": 0,
      "outputs": []
    },
    {
      "cell_type": "code",
      "metadata": {
        "id": "9lxf675pDn6a",
        "colab_type": "code",
        "outputId": "d3a38868-8f3e-4b1e-d018-b776e981f03f",
        "colab": {
          "base_uri": "https://localhost:8080/",
          "height": 34
        }
      },
      "source": [
        "train_images.shape\n",
        "len(train_labels)"
      ],
      "execution_count": 0,
      "outputs": [
        {
          "output_type": "execute_result",
          "data": {
            "text/plain": [
              "60000"
            ]
          },
          "metadata": {
            "tags": []
          },
          "execution_count": 3
        }
      ]
    },
    {
      "cell_type": "code",
      "metadata": {
        "id": "FkjGOj7hD6hr",
        "colab_type": "code",
        "outputId": "7caf8b49-1dac-41be-cee3-315f9ba3f182",
        "colab": {
          "base_uri": "https://localhost:8080/",
          "height": 34
        }
      },
      "source": [
        "train_labels\n"
      ],
      "execution_count": 0,
      "outputs": [
        {
          "output_type": "execute_result",
          "data": {
            "text/plain": [
              "array([5, 0, 4, ..., 5, 6, 8], dtype=uint8)"
            ]
          },
          "metadata": {
            "tags": []
          },
          "execution_count": 4
        }
      ]
    },
    {
      "cell_type": "code",
      "metadata": {
        "id": "2ER2HAA3Eg9a",
        "colab_type": "code",
        "colab": {}
      },
      "source": [
        "from keras import models\n",
        "from keras import layers"
      ],
      "execution_count": 0,
      "outputs": []
    },
    {
      "cell_type": "code",
      "metadata": {
        "id": "TJSnOzULEmk_",
        "colab_type": "code",
        "colab": {}
      },
      "source": [
        "network = models.Sequential()\n",
        "network.add(layers.Dense(512, activation='relu', input_shape=(28*28,)))\n",
        "network.add(layers.Dense(10, activation='softmax'))"
      ],
      "execution_count": 0,
      "outputs": []
    },
    {
      "cell_type": "code",
      "metadata": {
        "id": "T1AydkVlEyrg",
        "colab_type": "code",
        "colab": {}
      },
      "source": [
        "network.compile(optimizer='rmsprop', \n",
        "               loss='categorical_crossentropy', \n",
        "               metrics=['accuracy'])\n"
      ],
      "execution_count": 0,
      "outputs": []
    },
    {
      "cell_type": "code",
      "metadata": {
        "id": "edbAbSXdJ1P4",
        "colab_type": "code",
        "colab": {}
      },
      "source": [
        "train_images = train_images.reshape ((60000, 28*28))\n",
        "train_images = train_images.astype('float32')/255\n",
        "test_images = test_images.reshape((10000, 28 *28))\n",
        "test_images = test_images.astype('float32')/255\n"
      ],
      "execution_count": 0,
      "outputs": []
    },
    {
      "cell_type": "code",
      "metadata": {
        "id": "dRIV4o5uKe7V",
        "colab_type": "code",
        "colab": {}
      },
      "source": [
        "from keras.utils import to_categorical\n",
        "train_labels = to_categorical(train_labels)\n",
        "test_labels = to_categorical(test_labels)\n"
      ],
      "execution_count": 0,
      "outputs": []
    },
    {
      "cell_type": "code",
      "metadata": {
        "id": "Gi6zDd7HK4C_",
        "colab_type": "code",
        "outputId": "5870cfed-9850-4b97-ffcd-09b14c36da53",
        "colab": {
          "base_uri": "https://localhost:8080/",
          "height": 390
        }
      },
      "source": [
        "network.fit(train_images, train_labels, epochs=10, batch_size=128)"
      ],
      "execution_count": 0,
      "outputs": [
        {
          "output_type": "stream",
          "text": [
            "Epoch 1/10\n",
            "60000/60000 [==============================] - 1s 23us/step - loss: 0.0281 - acc: 0.9918\n",
            "Epoch 2/10\n",
            "60000/60000 [==============================] - 1s 23us/step - loss: 0.0217 - acc: 0.9936\n",
            "Epoch 3/10\n",
            "60000/60000 [==============================] - 1s 22us/step - loss: 0.0173 - acc: 0.9950\n",
            "Epoch 4/10\n",
            "60000/60000 [==============================] - 1s 22us/step - loss: 0.0129 - acc: 0.9962\n",
            "Epoch 5/10\n",
            "60000/60000 [==============================] - 1s 22us/step - loss: 0.0098 - acc: 0.9974\n",
            "Epoch 6/10\n",
            "60000/60000 [==============================] - 1s 23us/step - loss: 0.0076 - acc: 0.9978\n",
            "Epoch 7/10\n",
            "60000/60000 [==============================] - 1s 22us/step - loss: 0.0061 - acc: 0.9982\n",
            "Epoch 8/10\n",
            "60000/60000 [==============================] - 1s 22us/step - loss: 0.0050 - acc: 0.9987\n",
            "Epoch 9/10\n",
            "60000/60000 [==============================] - 1s 22us/step - loss: 0.0034 - acc: 0.9990\n",
            "Epoch 10/10\n",
            "60000/60000 [==============================] - 1s 22us/step - loss: 0.0036 - acc: 0.9991\n"
          ],
          "name": "stdout"
        },
        {
          "output_type": "execute_result",
          "data": {
            "text/plain": [
              "<keras.callbacks.History at 0x7f7cafd805c0>"
            ]
          },
          "metadata": {
            "tags": []
          },
          "execution_count": 26
        }
      ]
    },
    {
      "cell_type": "code",
      "metadata": {
        "id": "1qJaQ4TBMtrG",
        "colab_type": "code",
        "outputId": "dc7f9e46-5c08-4276-8d88-6ed50f1f5f0d",
        "colab": {
          "base_uri": "https://localhost:8080/",
          "height": 52
        }
      },
      "source": [
        "test_loss, test_acc = network.evaluate(test_images, test_labels)\n",
        "print('test_acc:', test_acc)"
      ],
      "execution_count": 0,
      "outputs": [
        {
          "output_type": "stream",
          "text": [
            "10000/10000 [==============================] - 0s 33us/step\n",
            "test_acc: 0.9826\n"
          ],
          "name": "stdout"
        }
      ]
    },
    {
      "cell_type": "code",
      "metadata": {
        "id": "VtU99D3FRc7-",
        "colab_type": "code",
        "colab": {}
      },
      "source": [
        ""
      ],
      "execution_count": 0,
      "outputs": []
    }
  ]
}